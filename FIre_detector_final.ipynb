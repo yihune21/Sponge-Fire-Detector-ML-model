{
 "cells": [
  {
   "cell_type": "markdown",
   "id": "cc42be90",
   "metadata": {},
   "source": [
    "# Importing dependencies"
   ]
  },
  {
   "cell_type": "code",
   "execution_count": null,
   "id": "4a1b1e7c",
   "metadata": {},
   "outputs": [],
   "source": [
    "# Importing dependencies\n",
    "import numpy as np\n",
    "import pandas as pd\n",
    "from sklearn.model_selection import train_test_split,GridSearchCV\n",
    "from sklearn.tree import DecisionTreeClassifier\n",
    "from sklearn import tree\n",
    "from sklearn.metrics import accuracy_score,confusion_matrix,classification_report,recall_score\n",
    "import seaborn as sns\n",
    "import matplotlib.pyplot as plt\n",
    "from sklearn.metrics import recall_score\n"
   ]
  },
  {
   "cell_type": "markdown",
   "id": "a26fd4e7",
   "metadata": {},
   "source": [
    "# Data loading"
   ]
  },
  {
   "cell_type": "code",
   "execution_count": null,
   "id": "3b522024",
   "metadata": {},
   "outputs": [],
   "source": [
    "#data loading \n",
    "\n",
    "df=pd.read_csv(\"sponge_1.csv\")"
   ]
  },
  {
   "cell_type": "code",
   "execution_count": null,
   "id": "68a89896",
   "metadata": {},
   "outputs": [],
   "source": [
    "df"
   ]
  },
  {
   "cell_type": "code",
   "execution_count": null,
   "id": "63d8ff67",
   "metadata": {},
   "outputs": [],
   "source": [
    "df.head()"
   ]
  },
  {
   "cell_type": "code",
   "execution_count": null,
   "id": "d8985dee",
   "metadata": {},
   "outputs": [],
   "source": [
    "df.tail()\n"
   ]
  },
  {
   "cell_type": "markdown",
   "id": "72b475cf",
   "metadata": {},
   "source": [
    "# Data separation "
   ]
  },
  {
   "cell_type": "code",
   "execution_count": null,
   "id": "6b4157aa",
   "metadata": {},
   "outputs": [],
   "source": [
    "#data separation \n",
    "#spliting data for test and train\n",
    "\n",
    "x=df.drop(columns=['FireIndicator'])\n",
    "y=df['FireIndicator']"
   ]
  },
  {
   "cell_type": "markdown",
   "id": "d70a4c30",
   "metadata": {},
   "source": [
    "# Data splitting"
   ]
  },
  {
   "cell_type": "code",
   "execution_count": null,
   "id": "c97957a9",
   "metadata": {},
   "outputs": [],
   "source": [
    "x_train, x_test, y_train, y_test = train_test_split(x, y, test_size=0.3, random_state=100)"
   ]
  },
  {
   "cell_type": "markdown",
   "id": "a7130e37",
   "metadata": {},
   "source": [
    "# Train the model"
   ]
  },
  {
   "cell_type": "code",
   "execution_count": null,
   "id": "7c502db9",
   "metadata": {},
   "outputs": [],
   "source": [
    "# Create a Decision Tree classifier\n",
    "classifier = DecisionTreeClassifier()"
   ]
  },
  {
   "cell_type": "code",
   "execution_count": null,
   "id": "13eed5f8",
   "metadata": {},
   "outputs": [],
   "source": [
    "# Train the model\n",
    "classifier.fit(x_train,y_train)"
   ]
  },
  {
   "cell_type": "markdown",
   "id": "e900071e",
   "metadata": {},
   "source": [
    "# Prediction"
   ]
  },
  {
   "cell_type": "code",
   "execution_count": null,
   "id": "92640548",
   "metadata": {},
   "outputs": [],
   "source": [
    "#Prediction\n",
    "# Make predictions on the test set\n",
    "y_pred = classifier.predict(x_test)"
   ]
  },
  {
   "cell_type": "markdown",
   "id": "c9f15aa7",
   "metadata": {},
   "source": [
    "# Evaluate the model"
   ]
  },
  {
   "cell_type": "code",
   "execution_count": null,
   "id": "1b31d743",
   "metadata": {},
   "outputs": [],
   "source": [
    "# Evaluate the model\n",
    "accuracy = accuracy_score(y_test, y_pred)\n",
    "report = classification_report(y_test, y_pred)"
   ]
  },
  {
   "cell_type": "code",
   "execution_count": null,
   "id": "4cfc5193",
   "metadata": {},
   "outputs": [],
   "source": [
    "# Display evaluation metrics\n",
    "print(f'Accuracy: {accuracy}')\n",
    "print('Classification Report:')\n",
    "print(report)"
   ]
  },
  {
   "cell_type": "markdown",
   "id": "e2264aa4",
   "metadata": {},
   "source": [
    "# Data visualization"
   ]
  },
  {
   "cell_type": "code",
   "execution_count": null,
   "id": "2f7acbbb",
   "metadata": {},
   "outputs": [],
   "source": [
    "# Compute confusion matrix\n",
    "cm = confusion_matrix(y_test, y_pred)\n",
    "\n",
    "# Visualize the confusion matrix\n",
    "plt.figure(figsize=(8, 6))\n",
    "sns.heatmap(cm, annot=True, fmt=\"d\", cmap=\"Blues\", cbar=False)\n",
    "plt.title(\"Confusion Matrix\")\n",
    "plt.xlabel(\"Predicted\")\n",
    "plt.ylabel(\"Actual\")\n",
    "plt.show()\n"
   ]
  },
  {
   "cell_type": "code",
   "execution_count": null,
   "id": "74baccb2",
   "metadata": {},
   "outputs": [],
   "source": [
    "# Visualize the decision tree\n",
    "plt.figure(figsize=(15, 10))\n",
    "tree.plot_tree(classifier, feature_names=list(x.columns), class_names=['No Fire', 'Fire'], filled=True)\n",
    "plt.show()\n"
   ]
  },
  {
   "cell_type": "code",
   "execution_count": null,
   "id": "79525025",
   "metadata": {},
   "outputs": [],
   "source": [
    "from sklearn.model_selection import GridSearchCV\n",
    "\n",
    "# Define hyperparameter grid\n",
    "param_grid = {\n",
    "    'max_depth': [None, 5, 10, 15],\n",
    "    'min_samples_split': [2, 5, 10],\n",
    "    'min_samples_leaf': [1, 2, 4]\n",
    "}\n",
    "\n",
    "# Create a decision tree classifier\n",
    "classifier = DecisionTreeClassifier()\n",
    "\n",
    "# Perform grid search with cross-validation\n",
    "grid_search = GridSearchCV(classifier, param_grid, cv=5, scoring='accuracy')\n",
    "grid_search.fit(x_train, y_train)\n",
    "\n",
    "# Print the best hyperparameters\n",
    "print(\"Best Hyperparameters:\", grid_search.best_params_)\n",
    "\n",
    "# Train the model with the best hyperparameters\n",
    "best_classifier = grid_search.best_estimator_\n",
    "best_classifier.fit(x_train, y_train)\n"
   ]
  },
  {
   "cell_type": "code",
   "execution_count": null,
   "id": "3fd70fa9",
   "metadata": {},
   "outputs": [],
   "source": [
    "# Calculate sensitivity (recall)\n",
    "sensitivity = recall_score(y_test, y_pred)\n",
    "print(f\"Sensitivity (Recall): {sensitivity}\")"
   ]
  },
  {
   "cell_type": "code",
   "execution_count": null,
   "id": "7bc23a21",
   "metadata": {},
   "outputs": [],
   "source": [
    "import plotly.express as px\n",
    "import plotly.graph_objects as go\n",
    "from plotly.subplots import make_subplots"
   ]
  },
  {
   "cell_type": "code",
   "execution_count": null,
   "id": "fb361bc5",
   "metadata": {},
   "outputs": [],
   "source": [
    "fig = make_subplots(rows=1, cols=2, specs=[[{\"type\": \"xy\"}, {\"type\": \"pie\"}]])\n",
    "\n",
    "\n",
    "fig.add_trace(go.Bar(x =df['FireIndicator'].value_counts().index,y=df['FireIndicator'].value_counts().to_numpy(),marker_color=['darkorange','green'],showlegend=False),row=1,col=1)\n",
    "\n",
    "fig.add_trace(go.Pie(\n",
    "     values=df['FireIndicator'].value_counts().to_numpy(),\n",
    "     labels=df['FireIndicator'].value_counts().index,\n",
    "    marker=dict(colors=['darkorange','green'])),\n",
    "    row=1, col=2)"
   ]
  },
  {
   "cell_type": "code",
   "execution_count": null,
   "id": "ae6d933a",
   "metadata": {},
   "outputs": [],
   "source": [
    "comparison_df = pd.DataFrame({'Actual': y_test, 'Predicted': y_pred})"
   ]
  },
  {
   "cell_type": "code",
   "execution_count": null,
   "id": "d92e3983",
   "metadata": {},
   "outputs": [],
   "source": [
    "# Filter correct predictions\n",
    "correct_predictions = comparison_df[comparison_df['Actual'] == comparison_df['Predicted']]\n",
    "\n",
    "# Filter incorrect predictions\n",
    "incorrect_predictions = comparison_df[comparison_df['Actual'] != comparison_df['Predicted']]\n"
   ]
  },
  {
   "cell_type": "code",
   "execution_count": null,
   "id": "60688d5b",
   "metadata": {},
   "outputs": [],
   "source": [
    "# Print correct predictions\n",
    "print(\"Correct Predictions:\")\n",
    "print(correct_predictions)\n",
    "\n",
    "# Print incorrect predictions\n",
    "print(\"\\nIncorrect Predictions:\")\n",
    "print(incorrect_predictions)\n"
   ]
  },
  {
   "cell_type": "code",
   "execution_count": null,
   "id": "1bbff529",
   "metadata": {},
   "outputs": [],
   "source": [
    "# Get user input\n",
    "feature1 = float(input(\"Enter the value for Feature 1: \"))\n",
    "feature2 = float(input(\"Enter the value for Feature 2: \"))\n",
    "# Repeat for other features...\n",
    "\n",
    "# Prepare input data\n",
    "user_input = pd.DataFrame({\n",
    "    'Feature1': [feature1],\n",
    "    'Feature2': [feature2],\n",
    "    # Add other features...\n",
    "})\n",
    "\n",
    "# Make predictions\n",
    "user_prediction = classifier.predict(user_input)\n",
    "\n",
    "# Display output\n",
    "print(\"Model Prediction:\", user_prediction[0])\n"
   ]
  }
 ],
 "metadata": {
  "kernelspec": {
   "display_name": "Python 3 (ipykernel)",
   "language": "python",
   "name": "python3"
  },
  "language_info": {
   "codemirror_mode": {
    "name": "ipython",
    "version": 3
   },
   "file_extension": ".py",
   "mimetype": "text/x-python",
   "name": "python",
   "nbconvert_exporter": "python",
   "pygments_lexer": "ipython3",
   "version": "3.11.5"
  }
 },
 "nbformat": 4,
 "nbformat_minor": 5
}
